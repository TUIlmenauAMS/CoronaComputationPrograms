{
  "nbformat": 4,
  "nbformat_minor": 0,
  "metadata": {
    "colab": {
      "provenance": [],
      "collapsed_sections": [],
      "authorship_tag": "ABX9TyPz6Gb8rslgl+FMFFUqYraV",
      "include_colab_link": true
    },
    "kernelspec": {
      "name": "python3",
      "display_name": "Python 3"
    },
    "language_info": {
      "name": "python"
    }
  },
  "cells": [
    {
      "cell_type": "markdown",
      "metadata": {
        "id": "view-in-github",
        "colab_type": "text"
      },
      "source": [
        "<a href=\"https://colab.research.google.com/github/TUIlmenauAMS/CoronaComputationPrograms/blob/master/climateChangeCalculated6_en.ipynb\" target=\"_parent\"><img src=\"https://colab.research.google.com/assets/colab-badge.svg\" alt=\"Open In Colab\"/></a>"
      ]
    },
    {
      "cell_type": "markdown",
      "source": [
        "# <center> Climate Change Calculated 6\n",
        "## <center> Political Power Dynamics and Switch to Renewable Energy. \n",
        "### <center> Prof. Dr.-Ing. Gerald Schuller\n",
        "* Slides are available at: https://github.com/TUIlmenauAMS/ClimateChangeCalculated/blob/main/climateChangeCalculated6_en.ipynb"
      ],
      "metadata": {
        "id": "_HUVPKKndPFy"
      }
    },
    {
      "cell_type": "markdown",
      "source": [
        "- We saw: Climate change leads to the shift of habitats of animals and plants, thus new contacts between carriers of viruses, and thus to more pandemics and food shortages. \n",
        "- Climate change also leads to more droughts, flooding, storms, and sea level rise.\n",
        "- All lead to unrest and wars, and thus to even more food shortages and rising prices for everyday necessities (supply chain shortages, see also Climate Change Calculated 3, https://github.com/TUIlmenauAMS/ClimateChangeCalculated).\n",
        "- This leads to further **destabilization of already unstable countries**, especially dictatorships.\n",
        "\n",
        "- Countries with large reserves of fossil energy can rely too much on its exploitation, which promotes dictatorial developments, because for this no highly developed service society is needed. Example: Russia, Saudi Arabia.\n"
      ],
      "metadata": {
        "id": "uGMEjGQ4dsi3"
      }
    },
    {
      "cell_type": "markdown",
      "source": [
        "## Separation of Powers\n",
        "- this means: \n",
        " - the creation of laws (politics), \n",
        " - the enforcement of laws (police), and \n",
        " - the interpretation of laws (justice) \n",
        "- should be done by independent, separate entities, to avoid abuse.\n",
        "### Separation of powers index: \n",
        "- https://govdata360.worldbank.org/indicators/h663779c8?country=BRA&indicator=28775&viz=line_chart&years=2006,2020\n",
        " - Higher is better, scale 1 to 10\n",
        " - Russia in 2020: 3, \n",
        "  - as comparison: Czech Republic: 10"
      ],
      "metadata": {
        "id": "rvqMrM3w2JUl"
      }
    },
    {
      "cell_type": "markdown",
      "source": [
        "### Judicial independence score:\n",
        "- https://www.maplecroft.com/insights/analysis/separation-of-powers-under-attack-in-45-countries/\n",
        "- Observe Fig. 1, Development over time:\n",
        "  - Switzerland has a score of 135, \n",
        "  - Russia just 15 in 2021, decreasing from 40 in 2020, becoming worse than DR Congo, \n",
        "  - China in 2021 just 3, decreasing from 29 in 2018\n",
        "\n",
        "\n",
        "\n",
        "\n",
        "\n"
      ],
      "metadata": {
        "id": "3RgyI9pVhDQS"
      }
    },
    {
      "cell_type": "markdown",
      "source": [
        "### “The Global Rule of Law”:\n",
        "- https://worldjusticeproject.org/sites/default/files/files/introduction_key_findings.pdf\n",
        " - Observe: page 16: Russia is ranked 80 out of 100 shown countries."
      ],
      "metadata": {
        "id": "JhVQbTeO2OKC"
      }
    },
    {
      "cell_type": "markdown",
      "source": [
        "### Interesting also: Democracy Index:\n",
        "- https://en.wikipedia.org/wiki/Democracy_Index\n",
        "  - Russia in 2021: rank 124, score 3.24, declined from 5.02 in 2006.   \n",
        "  - Comparison: Norway in 2021: Rank 1, score: 9.75.\n",
        "\n",
        "### Russia's political system: \n",
        "- https://de.wikipedia.org/wiki/Politisches_System_Russlands\n",
        " - Observe the Figure: The president has power over all institutions, there is no separation of powers.\n",
        "\n",
        "### Countries main exports:\n",
        "- https://worldpopulationreview.com/country-rankings/exports-by-country\n",
        "  - Russia: Crude Oil, which needs relatively few people,\n",
        "  - Spain: Cars. It has the same total export value, but products like cars require a highly developed service based society.\n"
      ],
      "metadata": {
        "id": "G97FsV4wMcK0"
      }
    },
    {
      "cell_type": "markdown",
      "source": [
        "## Power Dynamics of Dictatorships\n",
        "\n",
        "* Dictators know that they don't have the majority of people supporting them\n",
        "* hence they have to use force and suppression to stay in power\n",
        "* Having no separation of powers (politics, justice, executive) enables this\n",
        "* This also enables corruption\n",
        "* and disables the rule of law\n",
        "* Force produces opposite force\n",
        "* This leads to a cycle of increased force\n"
      ],
      "metadata": {
        "id": "KJKiPFsUhP6f"
      }
    },
    {
      "cell_type": "markdown",
      "source": [
        "* When the limit of force is reached, the dictator seeks more power by trying to conquer other countries\n",
        "* Now also breaking not just domestic, but international law\n",
        "* This way he also creates a common enemy, and distractions from problems\n"
      ],
      "metadata": {
        "id": "oj2JnghUh5yx"
      }
    },
    {
      "cell_type": "markdown",
      "source": [
        "* The suppression in dictatorships works better for uneducated people, \n",
        "* that is why in dictatorships educational systems are run dry of money, \n",
        "* and higher education is discurraged.\n"
      ],
      "metadata": {
        "id": "HEfOV6Ii1btw"
      }
    },
    {
      "cell_type": "markdown",
      "source": [
        "* Conquering a country is about submission of the people.\n",
        "* There, not only the military and politicians are attacked, but mostly civilians. \n",
        "* The purpose is to bomb them into submission. \n",
        "* In this world view, people have no independent rights, but are subjects of the state. \n",
        "* hence Putin didn't accept the eastern European countries decision to join Nato instead of joining Russia.\n",
        "* It seems to me this is what is happening in Ukraine now.\n"
      ],
      "metadata": {
        "id": "7UiqNJhQiIcM"
      }
    },
    {
      "cell_type": "markdown",
      "source": [
        "* The importance of conquering countries for the power of a dictator is also shown by Putins speech just before the war against Ukraine.\n",
        "* There he justifies and announces his actions with his image of history:\n",
        "\n",
        "* In German:\n",
        "https://www.spiegel.de/ausland/der-kremlchef-und-seine-drohungen-gegen-den-westen-putins-ukraine-rede-im-wortlaut-a-fab35f1d-3a2e-494c-af44-72798d2aa42c\n",
        "\n",
        "* In English: \n",
        "https://edition.cnn.com/2022/02/22/europe/ukraine-putin-reaction-kyiv-intl/index.html\n",
        "\n",
        "* In English directly from the Kremlin:  \n",
        "http://en.kremlin.ru/events/president/news/67843"
      ],
      "metadata": {
        "id": "I8Q5vHQTuG1g"
      }
    },
    {
      "cell_type": "markdown",
      "source": [
        "## Power Dynamics of Democracies\n",
        "\n",
        "* The elected leader knows that he has the majority of the people behind him\n",
        "* The only way to increase power is to obtain more votes. \n",
        "* This can do this by convincing the voters. \n",
        "* Convincing works better if the people are educated. \n",
        "* That is why you see highly developed educational systems in democracies.\n"
      ],
      "metadata": {
        "id": "qyKYjCFmho5M"
      }
    },
    {
      "cell_type": "markdown",
      "source": [
        "* The leaders in democracies also have no incentive to conquer other countries, because there are no voters. \n",
        "* The only purpose democracies have for the military is to deter dictatorships to attack them. \n",
        "* If they are attacked, their military already failed. \n",
        "* In this case the military of a democracy is used as punishment, to prevent further attacks, \n",
        "* hence they will take away any benefit the attacker might have gained, plus some more, from those who benefited from the attack (politicians, the army), and then leave again. "
      ],
      "metadata": {
        "id": "fq_o0DsAiZN7"
      }
    },
    {
      "cell_type": "markdown",
      "source": [
        "## Germany's Natural Gas Imports\n",
        "- Germany's natural gas imports from Russia:\n",
        "https://de.statista.com/statistik/daten/studie/1302674/umfrage/russischer-anteil-am-deutschen-gasimport/\n",
        "- 2020: total natural gas imports: 80439 Mio. m³, from Russia: 52464 Mio. m³, **ca. 65%**.\n",
        "- Germany's electricity mix (Strom-Mix 2021): https://strom-report.de/strom\n",
        " - Total energy: 490 TWh\n",
        " - 23% wind energy, 112.7 TWh\n",
        " - 9.9% solar energy, 48.4 TWh\n",
        " - 10.5% natrual gas, 51.1 TWh\n",
        "- Hence about **32% more wind and solar energy** could replace natural gas as electricity source.\n",
        "- Germany's electricity generation between 202 and 2019 already fluctuated between 503 and 553 TWh per year, hence by about 50 TWh.\n",
        " - (https://www.ise.fraunhofer.de/content/dam/ise/de/documents/news/2019/Stromerzeugung_2019_2.pdf page 14)\n",
        "- Hence the **missing gas** for electricity generation **corresponds to normal yearly fluctuations**.  \n",
        "\n"
      ],
      "metadata": {
        "id": "LrPqu2xXmHO6"
      }
    },
    {
      "cell_type": "markdown",
      "source": [
        "## Power Reserves of Germany's Electric Network\n",
        "- Energy Data for Germany:\n",
        " - https://energy-charts.info/\n",
        "- Click on: Power - Electricity production: select Interval= year: \n",
        " - Extreme values: Load: min.: 38800MW, max: 78800 MW =78.8GW\n",
        " - This means: the maximum power consumption of 2022 in Germany was 78.8GW\n",
        "- Now click on Power- Installed power: \n",
        " - Sum, total: 221 GW, \n",
        " - without natural gas (not even from storage) and Uranium (nuclear power): 185 GW\n",
        " - The installed maximum of wind and solar power cannot be achieved in winter\n",
        " - Click on: Power- Electricity production: select Interval= Month, select January\n",
        " - Look at the minimum and maximum for wind (onshore and offshore) and solar, and take the median as most likely:\n",
        " - Median power of wind in January (onshore+offshore):  ((7.26+40.65)+(0.134+0.524))/2 = **24.284 GW**\n",
        " - Median solar power: 11.958/2 = **5.979 GW**\n",
        " - Median together: 24.284+5.979 = **30.2629 GW**\n",
        " - Installed maximum for wind and solar: 62.98+7.77+57.31 = 128.06GW\n",
        " - Hence **renewable power loss in January**: 128.06-30.26= **97.8GW**\n",
        "- Hence the **installed power without natural gas and nuclear power, and with renewable power loss in January** = 185-97.8 = **87.2GW**.\n",
        "- Even with peak power in January there is still a **power reserve** of 87.2-78.8 = **8.4GW**\n",
        "- As a comparison: **1 GW** corresponds roughly to the power of **one nuclear power plant**.\n",
        "- Hence the **reserve even for January** corresponds to **roughly 8 nuclear power plants**.\n",
        "- This is without even using the natural gas from storage tanks for electricity generation, which can be kept for peak cases.\n",
        "\n",
        "\n",
        " "
      ],
      "metadata": {
        "id": "dn6caSyrx6Xi"
      }
    },
    {
      "cell_type": "markdown",
      "source": [
        "## Natural Gas Amount for Electricity Generation:\n",
        "\n",
        "- Natural gas energy density: 10.1 Wh/L = 10.1 kWh/m³ =10.1e9 Wh/Mio.qm (https://en.wikipedia.org/wiki/Energy_density)\n",
        "- Efficiency gas power plants: roughly 30% (https://www.energy.gov/fecm/how-gas-turbine-power-plants-work)\n",
        "- Hence the amount of natural gas for electricity is:"
      ],
      "metadata": {
        "id": "krj1upnGr52G"
      }
    },
    {
      "cell_type": "code",
      "source": [
        "import sympy\n",
        "W=sympy.symbols(\"W\") #unit \"Watt\"\n",
        "h=sympy.symbols(\"h\") #unit \"hour\"\n",
        "m=sympy.symbols(\"m\") #unit \"meter\"\n",
        "#amount_of_gas. in Mio. m³: \n",
        "amount=51.1e12 *W*h /(10.1e3*W*h/(m**3)) /0.3 /1e6\n",
        "print(\"Gas amount in Million qm:\", amount, \"*Million\")"
      ],
      "metadata": {
        "colab": {
          "base_uri": "https://localhost:8080/"
        },
        "id": "zz28J7hMpag0",
        "outputId": "17522d5f-5064-4a52-8345-4c8b189e440c"
      },
      "execution_count": null,
      "outputs": [
        {
          "output_type": "stream",
          "name": "stdout",
          "text": [
            "Gas amount in Million qm: 16864.6864686469*m**3 *Million\n"
          ]
        }
      ]
    },
    {
      "cell_type": "markdown",
      "source": [
        "- This is about **32%** of the natural gas from Russia (80439 Mio. m³), a significant fraction.\n",
        "- Gas power plants are mostly **peaker plants**, which only supply peak demand.\n",
        "- Hence a good part could be replaced by **grid battery storage**, like the Tesla Megapack (https://www.tesla.com/megapack)\n",
        "- They are charged when there is a **surplus of (renewable) energy**, which is relseased at peak demand.\n",
        "- See also https://www.ise.fraunhofer.de/de/leitthemen/stationaere-batteriespeicher.html\n"
      ],
      "metadata": {
        "id": "XdPyEhc-TDuW"
      }
    },
    {
      "cell_type": "markdown",
      "source": [
        "## Natural Gas Peaker Power Plant Replacements\n",
        "- **Examples** of the peaker plant replacements in the US are described here: https://www.psehealthyenergy.org/our-work/energy-storage-peaker-plant-replacement-project/\n",
        "- Examples from California (**Moss Landing power plant**), \n",
        "“Energy storage is actually the true bridge to a clean-energy future,”: https://e360.yale.edu/features/in-boost-for-renewables-grid-scale-battery-storage-is-on-the-rise\n",
        "- It turns out to be even **30% cheaper** than gas power plants (https://www.pv-magazine.com/2021/04/12/battery-storage-systems-30-cheaper-than-rival-gas-peaker-plants-for-firming-renewables/)\n",
        "- Renewable energy even in the past was among the cheapest energy (see Climate Change Calculated 4, https://github.com/TUIlmenauAMS/ClimateChangeCalculated)\n",
        "- Now it is much cheaper, hence it would be useful if the energy prices would differ accordingly instead of being coupled.\n",
        "- For instance the electricity tariff for renewables could be much cheaper."
      ],
      "metadata": {
        "id": "LHn0zvrVcvjD"
      }
    },
    {
      "cell_type": "markdown",
      "source": [
        "## Safety Through the European Power Network\n",
        "- We already have the european electric power network:\n",
        "https://de.wikipedia.org/wiki/Europ%C3%A4isches_Verbundsystem\n",
        "https://en.wikipedia.org/wiki/Synchronous_grid_of_Continental_Europe\n",
        "similar to other synchronous grids in the world:\n",
        "https://en.wikipedia.org/wiki/Wide_area_synchronous_grid\n",
        "- This effectively **balances out fluctuations** in renewable energy generation and reduces the need for electricity storage.\n",
        "- Further help would be a **smart grid**, with **real time pricing** information, to influence demand according on supply (https://en.wikipedia.org/wiki/Smart_grid)."
      ],
      "metadata": {
        "id": "FH9EaIcXUEU5"
      }
    },
    {
      "cell_type": "markdown",
      "source": [
        "\n",
        "\n",
        "## Renewable Energy Chance\n",
        "- Renewable Energy gives us energy independence\n",
        "- which is also important in times of increased political instability and unrest in the world, as consequence of climate change.\n",
        "- We already have the necessary technology, we just need the political will to deploy, see my previous video, \"Climate Change Calculated 5\"\n",
        "- We have enough space: \n",
        "  - for wind power we need about 2-3% of the agricultural area, \n",
        "  - for solar we need the suitable roof space and some space in no longer used coal mining or lignite open pit mining.\n",
        "\n"
      ],
      "metadata": {
        "id": "Xd9I4MxEg2Xm"
      }
    },
    {
      "cell_type": "markdown",
      "source": [
        "- Renewable energy is much cheaper and much faster to deploy than e.g. nuclear power (see Climate Change 4)\n",
        "  - A 4.5 MW wind power generator can be build in 3 weeks:\n",
        "  - https://www.handelsblatt.com/dreiwoechige-bauzeit-groesste-windkraftanlage-der-welt-entsteht-bei-magdeburg/2186154.html\n",
        "  \n",
        "  - Most time consuming are political **rules and regulations**.\n",
        "  - Idea: There could be **temporary** wind power generators to **speed up the approval** process.\n"
      ],
      "metadata": {
        "id": "eTLq9y_min79"
      }
    },
    {
      "cell_type": "markdown",
      "source": [
        "## Conclusions\n",
        "* Fossil fuel reserves promote autocratic or dictatorial developments\n",
        "* This also makes it dangerous to rely on them\n",
        "* This is on top of the global warming caused by the rapid increase of CO2 emissions of the world\n",
        "* Renewable energy technology is already available to quickly replace fossil fuels, as I showed in previous episodes\n",
        "* Natural gas power plants can be quickly replaced by wind and solar energy, grid battery storage, and a smart grid\n",
        "* It just needs a political support and push, to allow and foster such projects\n",
        "* Hence suitable laws and regulations need to be adapted or made."
      ],
      "metadata": {
        "id": "2RU2yD_lFWA2"
      }
    }
  ]
}